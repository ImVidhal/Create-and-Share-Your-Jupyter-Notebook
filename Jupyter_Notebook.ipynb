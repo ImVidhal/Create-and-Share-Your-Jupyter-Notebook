{
  "metadata": {
    "kernelspec": {
      "name": "python",
      "display_name": "Pyolite",
      "language": "python"
    },
    "language_info": {
      "codemirror_mode": {
        "name": "python",
        "version": 3
      },
      "file_extension": ".py",
      "mimetype": "text/x-python",
      "name": "python",
      "nbconvert_exporter": "python",
      "pygments_lexer": "ipython3",
      "version": "3.8"
    }
  },
  "nbformat_minor": 4,
  "nbformat": 4,
  "cells": [
    {
      "cell_type": "markdown",
      "source": "<center>\n    <img src=\"https://cf-courses-data.s3.us.cloud-object-storage.appdomain.cloud/IBMDeveloperSkillsNetwork-DS0105EN-SkillsNetwork/labs/Module2/images/SN_web_lightmode.png\" width=\"300\" alt=\"cognitiveclass.ai logo\"  />\n</center>\n",
      "metadata": {}
    },
    {
      "cell_type": "markdown",
      "source": "#### Add your code below following the instructions given in the course\n",
      "metadata": {}
    },
    {
      "cell_type": "markdown",
      "source": "# My Jupiter Notebook on IBM Watson Studio",
      "metadata": {}
    },
    {
      "cell_type": "markdown",
      "source": "**German Higuera**\n\nCurrent occupation: Data Scientist",
      "metadata": {}
    },
    {
      "cell_type": "markdown",
      "source": "*I am interested in data science because it allows me to use data and statistics to understand patterns and trends in data, and to use this understanding to make informed decisions and predictions.*",
      "metadata": {}
    },
    {
      "cell_type": "markdown",
      "source": "### Code Description\n\nThis code is supposed to add two numbers and return the result.\n",
      "metadata": {}
    },
    {
      "cell_type": "code",
      "source": "def add(x, y):\n    return x + y\n\nresult = add(1, 1)\nprint(result)\n",
      "metadata": {
        "trusted": true
      },
      "execution_count": 9,
      "outputs": [
        {
          "name": "stdout",
          "text": "2\n",
          "output_type": "stream"
        }
      ]
    },
    {
      "cell_type": "markdown",
      "source": "---\n- Bulleted list:\n  - item 1\n  - item 2\n- Numbered list:\n  1. item 1\n  2. item 2\n\n| Column 1 | Column 2 |\n|----------|----------|\n| Cell 1   | Cell 2   |\n| Cell 3   | Cell 4   |\n\n[Youtube](http://google.com)\n\n![Image of a dog](https://www.google.com/imgres?imgurl=https%3A%2F%2Fwww.princeton.edu%2Fsites%2Fdefault%2Ffiles%2Fstyles%2Fhalf_2x%2Fpublic%2Fimages%2F2022%2F02%2FKOA_Nassau_2697x1517.jpg%3Fitok%3DiQEwihUn&imgrefurl=https%3A%2F%2Fwww.princeton.edu%2Fnews%2F2022%2F02%2F02%2Fwhat-your-dogs-lifespan-you-might-be-surprised&tbnid=vEgZce8uNit9PM&vet=12ahUKEwj9w4qaioX8AhXrUt8KHUecDQMQMygCegUIARDmAQ..i&docid=y-9b3DnaEkm6oM&w=1920&h=1080&q=image%20of%20a%20dog&ved=2ahUKEwj9w4qaioX8AhXrUt8KHUecDQMQMygCegUIARDmAQ)\n\n",
      "metadata": {}
    },
    {
      "cell_type": "code",
      "source": "",
      "metadata": {},
      "execution_count": null,
      "outputs": []
    }
  ]
}